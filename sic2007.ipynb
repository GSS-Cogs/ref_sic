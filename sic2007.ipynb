{
 "cells": [
  {
   "cell_type": "markdown",
   "metadata": {},
   "source": [
    "SIC 2007 to SKOS concept scheme"
   ]
  },
  {
   "cell_type": "code",
   "execution_count": 1,
   "metadata": {},
   "outputs": [
    {
     "data": {
      "text/plain": [
       "<xlrd.book.Book at 0x7f7a05775c88>"
      ]
     },
     "execution_count": 1,
     "metadata": {},
     "output_type": "execute_result"
    }
   ],
   "source": [
    "import requests\n",
    "from pathlib import Path\n",
    "from io import BytesIO\n",
    "from cachecontrol import CacheControl\n",
    "from cachecontrol.caches.file_cache import FileCache\n",
    "from cachecontrol.heuristics import LastModified\n",
    "\n",
    "session = CacheControl(requests.Session(),\n",
    "                       cache=FileCache('.cache'),\n",
    "                       heuristic=LastModified())\n",
    "\n",
    "xl_file = BytesIO(session.get('https://www.ons.gov.uk/file?uri=/methodology/classificationsandstandards/'\\\n",
    "                              'ukstandardindustrialclassificationofeconomicactivities/uksic2007/'\\\n",
    "                              'sic2007summaryofstructurtcm6.xls').content)\n",
    "import xlrd\n",
    "with open('data.xls', 'wb') as f:\n",
    "    f.write(xl_file.read())\n",
    "book = xlrd.open_workbook(file_contents=xl_file.getvalue())\n",
    "book"
   ]
  },
  {
   "cell_type": "code",
   "execution_count": 2,
   "metadata": {},
   "outputs": [
    {
     "name": "stdout",
     "output_type": "stream",
     "text": [
      "@base <http://www.ons.gov.uk/def/sic2007> .\n",
      "@prefix owl: <http://www.w3.org/2002/07/owl#> .\n",
      "@prefix rdf: <http://www.w3.org/1999/02/22-rdf-syntax-ns#> .\n",
      "@prefix rdfs: <http://www.w3.org/2000/01/rdf-schema#> .\n",
      "@prefix sic: <http://www.ons.gov.uk/def/sic2007#> .\n",
      "@prefix skos: <http://www.w3.org/2004/02/skos/core#> .\n",
      "@prefix xml: <http://www.w3.org/XML/1998/namespace> .\n",
      "@prefix xsd: <http://www.w3.org/2001/XMLSchema#> .\n",
      "\n",
      "<#01.11> a skos:Concept ;\n",
      "    rdfs:label \"Growing of cereals (except rice), leguminous crops and oil seeds\"@en ;\n",
      "    skos:broader <#01.1> ;\n",
      "    skos:inScheme <> ;\n",
      "    skos:notation \"01.11\"^^sic:Class .\n",
      "\n",
      "<#01.12> a skos:Concept ;\n",
      "    rdfs:label \"Growing of rice\"@en ;\n",
      "    skos:broader <#01.1> ;\n",
      "    skos:inScheme <> ;\n",
      "    skos:notation \"01.12\"^^sic:Class .\n",
      "\n",
      "<#01.13> a skos:Concept ;\n",
      "    rdfs:label \"Growing of vegetables and melons, roots and tubers\"@en ;\n",
      "    skos:broader <#01.1> ;\n",
      "    skos:inScheme <> ;\n",
      "    skos:notation \"01.13\"^^sic:Class .\n",
      "\n",
      "<#01.14> a skos:Concept ;\n",
      "    rd\n"
     ]
    }
   ],
   "source": [
    "from rdflib import Graph, Namespace, URIRef, Literal, BNode\n",
    "from rdflib.namespace import SKOS, RDF, RDFS, OWL, XSD\n",
    "from rdflib.collection import Collection\n",
    "from titlecase import titlecase\n",
    "\n",
    "g = Graph()\n",
    "SIC = Namespace('http://www.ons.gov.uk/def/sic2007#')\n",
    "\n",
    "g.bind('skos', SKOS)\n",
    "g.bind('owl', OWL)\n",
    "g.bind('sic', SIC)\n",
    "\n",
    "cs = URIRef('http://www.ons.gov.uk/def/sic2007')\n",
    "g.add((cs, RDF.type, SKOS.ConceptScheme))\n",
    "g.add((cs, RDFS.label, Literal(\"SIC 2007\")))\n",
    "g.add((cs, RDFS.comment, Literal(\"UK Standard Industrial Classification of Economic Activities\", \"en\")))\n",
    "\n",
    "for (typ, label, pattern) in [\n",
    "    ('Section', 'Section', '[A-U]'),\n",
    "    ('Division', 'Division', '[0-9]{2}'),\n",
    "    ('Group', 'Group', '[0-9]{2}\\.[0-9]'),\n",
    "    ('Class', 'Class', '[0-9]{2}\\.[0-9]{2}'),\n",
    "    ('SubClass', 'Sub class', '[0-9]{2}\\.[0-9]{2}/[0-9]')]:\n",
    "    g.add((SIC[typ], RDF.type, RDFS.Datatype))\n",
    "    g.add((SIC[typ], RDFS.label, Literal(label, \"en\")))\n",
    "    g.add((SIC[typ], OWL.onDatatype, XSD.String))\n",
    "    pattern_node = BNode()\n",
    "    pattern_list = BNode()\n",
    "    collection = Collection(g, pattern_list, [pattern_node])\n",
    "    g.add((SIC[typ], OWL.withRestrictions, pattern_list))\n",
    "    g.add((pattern_node, XSD.pattern, Literal(pattern)))\n",
    "\n",
    "def addConcept(c, label, notation, typ, parent):\n",
    "    g.add((c, RDF.type, SKOS.Concept))\n",
    "    g.add((c, RDFS.label, Literal(label, \"en\")))\n",
    "    g.add((c, SKOS.notation, Literal(notation, datatype=typ)))\n",
    "    g.add((c, SKOS.inScheme, cs))\n",
    "    if parent:\n",
    "        g.add((c, SKOS.broader, parent))\n",
    "    else:\n",
    "        g.add((c, SKOS.topConceptOf, cs))\n",
    "    return c\n",
    "\n",
    "sheet = book.sheets()[0]\n",
    "for i in range(3, sheet.nrows):\n",
    "    row = sheet.row_values(i, 0)\n",
    "    if row[0] != '': # Section\n",
    "        parentSection = addConcept(SIC[row[0].strip()], titlecase(row[1]), row[0].strip(), SIC.Section, None)\n",
    "        g.add((cs, SKOS.hasTopConcept, parentSection))\n",
    "    elif row[1] != '': # extra comment for section\n",
    "        g.add((parentSection, RDFS.comment, Literal(row[1].strip(), \"en\")))\n",
    "    elif row[2] != '': # Division\n",
    "        parentDivision = addConcept(SIC[row[2].strip()], row[3].strip(), row[2].strip(), SIC.Division, parentSection)\n",
    "    elif row[3] != '': # extra comment for division\n",
    "        g.add((parentDivision, RDFS.comment, Literal(row[3].strip(), \"en\")))\n",
    "    elif row[4] != '': # Group\n",
    "        parentGroup = addConcept(SIC[row[4].strip()], row[5].strip(), row[4].strip(), SIC.Group, parentDivision)\n",
    "    elif row[5] != '': # extra comment for group\n",
    "        g.add((parentGroup, RDFS.comment, Literal(row[5].strip(), \"en\")))\n",
    "    elif row[6] != '': # Class\n",
    "        parentClass = addConcept(SIC[row[6].strip()], row[7].strip(), row[6].strip(), SIC.Class, parentGroup)\n",
    "    elif row[7] != '': # extra comment for class\n",
    "        g.add((parentGroup, RDFS.comment, Literal(row[7].strip(), \"en\")))\n",
    "    elif row[8] != '': # Sub Class\n",
    "        addConcept(SIC[row[8].strip()], row[9].strip(), row[8].strip(), SIC.SubClass, parentClass)\n",
    "\n",
    "turtle = b'@base <http://www.ons.gov.uk/def/sic2007> .\\n' + g.serialize(format='turtle', base='http://www.ons.gov.uk/def/sic2007')\n",
    "print(turtle.decode('utf-8')[:1000])\n",
    "with open('sic2007.ttl', 'wb') as f:\n",
    "    f.write(turtle)"
   ]
  },
  {
   "cell_type": "code",
   "execution_count": null,
   "metadata": {},
   "outputs": [],
   "source": []
  }
 ],
 "metadata": {
  "kernelspec": {
   "display_name": "Python 3",
   "language": "python",
   "name": "python3"
  },
  "language_info": {
   "codemirror_mode": {
    "name": "ipython",
    "version": 3
   },
   "file_extension": ".py",
   "mimetype": "text/x-python",
   "name": "python",
   "nbconvert_exporter": "python",
   "pygments_lexer": "ipython3",
   "version": "3.6.5"
  }
 },
 "nbformat": 4,
 "nbformat_minor": 2
}
